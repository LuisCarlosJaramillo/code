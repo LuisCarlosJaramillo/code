{
  "nbformat": 4,
  "nbformat_minor": 0,
  "metadata": {
    "colab": {
      "name": "Untitled6.ipynb",
      "provenance": [],
      "collapsed_sections": [],
      "authorship_tag": "ABX9TyNrIY+imQpNv4mxBwOUmuPI",
      "include_colab_link": true
    },
    "kernelspec": {
      "name": "python3",
      "display_name": "Python 3"
    },
    "language_info": {
      "name": "python"
    }
  },
  "cells": [
    {
      "cell_type": "markdown",
      "metadata": {
        "id": "view-in-github",
        "colab_type": "text"
      },
      "source": [
        "<a href=\"https://colab.research.google.com/github/LuisCarlosJaramillo/code/blob/main/Json.ipynb\" target=\"_parent\"><img src=\"https://colab.research.google.com/assets/colab-badge.svg\" alt=\"Open In Colab\"/></a>"
      ]
    },
    {
      "cell_type": "code",
      "execution_count": null,
      "metadata": {
        "id": "WBXwx71Wff1i"
      },
      "outputs": [],
      "source": [
        "import json\n",
        "\n",
        "\n",
        "\n",
        "lista_precios = input()\n",
        "\n",
        "lista_productos = input().replace('','')\n",
        "\n",
        "\n",
        "\n",
        "dic_lista_precios = json.loads(lista_precios)\n",
        "\n",
        "\n",
        "\n",
        "suma = 0\n",
        "\n",
        "productos_encontrados = []\n",
        "\n",
        "\n",
        "\n",
        "for producto in lista_productos:\n",
        "\n",
        "    if producto in dic_lista_precios:\n",
        "\n",
        "        productos_encontrados.append(producto)\n",
        "\n",
        "        suma += dic_lista_precios[producto]  \n",
        "\n",
        "\n",
        "\n",
        "print(suma)\n",
        "\n",
        "print(' '.join(productos_encontrados))"
      ]
    }
  ]
}
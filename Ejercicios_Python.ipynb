{
  "cells": [
    {
      "cell_type": "markdown",
      "metadata": {
        "id": "view-in-github",
        "colab_type": "text"
      },
      "source": [
        "<a href=\"https://colab.research.google.com/github/LuisCarlosJaramillo/code/blob/main/Ejercicios_Python.ipynb\" target=\"_parent\"><img src=\"https://colab.research.google.com/assets/colab-badge.svg\" alt=\"Open In Colab\"/></a>"
      ]
    },
    {
      "cell_type": "code",
      "source": [
        "edad = 18\n",
        "if edad >= 18:\n",
        "  print(\"Es mayor de edad\")\n",
        "else:\n",
        "  print(\"No es mayor de edad\")\n",
        "\n",
        "print(\"Su edad es\", edad)"
      ],
      "metadata": {
        "colab": {
          "base_uri": "https://localhost:8080/"
        },
        "id": "1lHivN2mgVDA",
        "outputId": "6095d957-99fd-4d81-8488-658b1da08bf4"
      },
      "execution_count": null,
      "outputs": [
        {
          "output_type": "stream",
          "name": "stdout",
          "text": [
            "Es mayor de edad\n",
            "Su edad es 18\n"
          ]
        }
      ]
    },
    {
      "cell_type": "code",
      "source": [
        "numero = 11\n",
        "\n",
        "if numero % 2 == 0:\n",
        "  print(\"El numero es par\")\n",
        "\n",
        "else:\n",
        "  print(\"El numero es impar\")\n"
      ],
      "metadata": {
        "colab": {
          "base_uri": "https://localhost:8080/"
        },
        "id": "8CGbEVGPhFAP",
        "outputId": "1899cb45-b645-4d41-97a3-89e1ae53312c"
      },
      "execution_count": null,
      "outputs": [
        {
          "output_type": "stream",
          "name": "stdout",
          "text": [
            "El numero es impar\n"
          ]
        }
      ]
    },
    {
      "cell_type": "code",
      "source": [
        "nota1 = 3.5\n",
        "nota2 = 2.5\n",
        "nota3 = 4.5\n",
        "\n",
        "promedio = (nota1 + nota2 + nota3) / 3\n",
        "\n",
        "if promedio >= 3.5:\n",
        "  print(\"Felicidades! pasaste la materia\")\n",
        "else:\n",
        "  print(\"No lograste pasar la materia, debes esforzarte más\")\n",
        "print(\"El promedio es:\", promedio)"
      ],
      "metadata": {
        "colab": {
          "base_uri": "https://localhost:8080/"
        },
        "id": "YwolKr1UkdJ-",
        "outputId": "60968326-1d60-4c28-b984-6b3c61013dde"
      },
      "execution_count": null,
      "outputs": [
        {
          "output_type": "stream",
          "name": "stdout",
          "text": [
            "Felicidades! pasaste la materia\n",
            "El promedio es: 3.5\n"
          ]
        }
      ]
    },
    {
      "cell_type": "code",
      "source": [
        "edad = 12\n",
        "if edad == 0:\n",
        "  print(\"Es un bebé\")\n",
        "elif edad <= 12:\n",
        "  print(\"Es un niño\")\n",
        "elif edad <= 22:\n",
        "  print(\"Es un joven\")\n",
        "elif edad <= 60:\n",
        "  print(\"Es un adulto\")\n",
        "else:\n",
        "  print(\"Es un adulto mayor\")\n",
        "\n",
        "print(\"Su edad es\", edad)"
      ],
      "metadata": {
        "colab": {
          "base_uri": "https://localhost:8080/"
        },
        "id": "cYg90N058KD_",
        "outputId": "bd1771ce-ee68-4fc5-a11a-473682d5b23d"
      },
      "execution_count": null,
      "outputs": [
        {
          "output_type": "stream",
          "name": "stdout",
          "text": [
            "Es un niño\n",
            "Su edad es 12\n"
          ]
        }
      ]
    },
    {
      "cell_type": "code",
      "source": [
        "edad = int(input())\n",
        "\n",
        "print(\"Su edad es\", edad)\n",
        "\n",
        "if edad == 0:\n",
        "  print(\"Es un bebé\")\n",
        "elif edad <= 12:\n",
        "  print(\"Es un niño\")\n",
        "elif edad <= 22:\n",
        "  print(\"Es un joven\")\n",
        "elif edad <= 60:\n",
        "  print(\"Es un adulto\")\n",
        "else:\n",
        "  print(\"Es un adulto mayor\")"
      ],
      "metadata": {
        "colab": {
          "base_uri": "https://localhost:8080/"
        },
        "id": "8tnbpV2yxSu7",
        "outputId": "ab19bbec-37ac-466d-c43d-f6f0ca1e1ad5"
      },
      "execution_count": null,
      "outputs": [
        {
          "output_type": "stream",
          "name": "stdout",
          "text": [
            "35\n",
            "Su edad es 35\n",
            "Es un adulto\n"
          ]
        }
      ]
    },
    {
      "cell_type": "code",
      "source": [
        "dinero = True\n",
        "tiempo = False\n",
        "\n",
        "if dinero and tiempo:\n",
        "  print(\"Voy a la fiesta\")\n",
        "else:\n",
        "  print(\"No voy a la fiesta\")"
      ],
      "metadata": {
        "id": "5IcWa-BDKxya"
      },
      "execution_count": null,
      "outputs": []
    }
  ],
  "metadata": {
    "colab": {
      "collapsed_sections": [],
      "name": "Copia de Te damos la bienvenida a Colaboratory",
      "provenance": [],
      "include_colab_link": true
    },
    "kernelspec": {
      "display_name": "Python 3",
      "name": "python3"
    }
  },
  "nbformat": 4,
  "nbformat_minor": 0
}